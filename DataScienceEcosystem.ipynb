{
  "metadata": {
    "kernelspec": {
      "name": "python",
      "display_name": "Python (Pyodide)",
      "language": "python"
    },
    "language_info": {
      "codemirror_mode": {
        "name": "python",
        "version": 3
      },
      "file_extension": ".py",
      "mimetype": "text/x-python",
      "name": "python",
      "nbconvert_exporter": "python",
      "pygments_lexer": "ipython3",
      "version": "3.8"
    }
  },
  "nbformat_minor": 5,
  "nbformat": 4,
  "cells": [
    {
      "id": "c8c8c609-6c26-4ce0-910e-287c171c6c7c",
      "cell_type": "markdown",
      "source": "# Data Science Tools and Ecosystem",
      "metadata": {}
    },
    {
      "id": "2ef0c755-c443-4243-aa60-6fb5965e758c",
      "cell_type": "markdown",
      "source": "In this notebook, Data Science Tools and Ecosystem are summarized.",
      "metadata": {}
    },
    {
      "id": "ac66bb5a-f23d-4efe-af7a-852dd8fc2082",
      "cell_type": "markdown",
      "source": "Some of the popular languages that Data Scientists use are:\n1. Python\n2. SQL\n3. R",
      "metadata": {}
    },
    {
      "id": "21783f70-6c89-46eb-8820-c89d4df0be60",
      "cell_type": "markdown",
      "source": "Some of the commonly used libraries used by Data Scientists include:\n1. Matplotlib\n2. NumPy\n3. Pandas\n4. Scikit-learn\n5. TensorFlow\n6. Keras",
      "metadata": {}
    },
    {
      "id": "b2248254-2462-472a-a013-0bd659be1f98",
      "cell_type": "markdown",
      "source": "| Data Science Tools|\n|:-----------------|\n| Jupyter Notebook |\n| RStudio |\n| Spyder |",
      "metadata": {}
    },
    {
      "id": "65527c4b-7271-48d5-9d47-25d9c954f31c",
      "cell_type": "markdown",
      "source": "### Below are a few examples of evaluating arithmetic expressions in Python.",
      "metadata": {}
    },
    {
      "id": "008e2eba-1e19-484d-9317-e6f8cd7bb980",
      "cell_type": "code",
      "source": "#This a simple arithmetic expression to multiply then add integers\n(3*4)+5",
      "metadata": {
        "trusted": true
      },
      "outputs": [
        {
          "execution_count": 2,
          "output_type": "execute_result",
          "data": {
            "text/plain": "17"
          },
          "metadata": {}
        }
      ],
      "execution_count": 2
    },
    {
      "id": "6edab38d-0d3e-4dff-822d-c8245128fa22",
      "cell_type": "code",
      "source": "#This will convert 200 minutes to hours by dividing by 60\n200/6 ",
      "metadata": {
        "trusted": true
      },
      "outputs": [
        {
          "execution_count": 5,
          "output_type": "execute_result",
          "data": {
            "text/plain": "33.333333333333336"
          },
          "metadata": {}
        }
      ],
      "execution_count": 5
    },
    {
      "id": "5abf031e-c3dd-4544-8605-242323594f5d",
      "cell_type": "markdown",
      "source": "**Objectives:**\n* List popular languages for Data Science\n* List commonly used libraries used by Data Scientists\n* List of Data Science tools",
      "metadata": {}
    },
    {
      "id": "7bfac572-4e96-4546-9a89-c5c5766567e7",
      "cell_type": "markdown",
      "source": "## Author\nMoodi Sudheer Kumar",
      "metadata": {}
    },
    {
      "id": "d4d6d936-4ad0-4281-8377-168e014d4605",
      "cell_type": "code",
      "source": "",
      "metadata": {
        "trusted": true
      },
      "outputs": [],
      "execution_count": null
    }
  ]
}